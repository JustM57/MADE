{
 "cells": [
  {
   "cell_type": "markdown",
   "source": [
    "#### [Соревнование по распознаванию ростков растений](https://www.kaggle.com/c/plant-seedlings-classification)"
   ],
   "metadata": {
    "collapsed": false,
    "pycharm": {
     "name": "#%% md\n"
    }
   }
  },
  {
   "cell_type": "code",
   "execution_count": 2,
   "metadata": {
    "collapsed": true
   },
   "outputs": [],
   "source": [
    "import os\n",
    "import shutil\n",
    "import pandas as pd\n",
    "import torch\n",
    "import torch.optim as optim\n",
    "import numpy as np\n",
    "import torchvision\n",
    "from torchvision import transforms"
   ]
  },
  {
   "cell_type": "code",
   "execution_count": 3,
   "outputs": [
    {
     "name": "stdout",
     "output_type": "stream",
     "text": [
      "cuda:0\n"
     ]
    }
   ],
   "source": [
    "device = torch.device(\"cuda:0\" if torch.cuda.is_available() else \"cpu\")\n",
    "print(device)"
   ],
   "metadata": {
    "collapsed": false,
    "pycharm": {
     "name": "#%%\n"
    }
   }
  },
  {
   "cell_type": "code",
   "execution_count": 16,
   "outputs": [],
   "source": [
    "df = []\n",
    "for label in os.listdir('train'):\n",
    "    for pic in os.listdir(f'train/{label}'):\n",
    "        df.append([label, pic])\n",
    "\n",
    "df = pd.DataFrame(df, columns = ['label', 'pic'])"
   ],
   "metadata": {
    "collapsed": false,
    "pycharm": {
     "name": "#%%\n"
    }
   }
  },
  {
   "cell_type": "code",
   "execution_count": 17,
   "outputs": [
    {
     "data": {
      "text/plain": "        label            pic\n0  Sugar beet  6d99bec4e.png\n1  Sugar beet  02460681c.png\n2  Sugar beet  de1da036c.png\n3  Sugar beet  7c05c4f0e.png\n4  Sugar beet  71b1b6718.png",
      "text/html": "<div>\n<style scoped>\n    .dataframe tbody tr th:only-of-type {\n        vertical-align: middle;\n    }\n\n    .dataframe tbody tr th {\n        vertical-align: top;\n    }\n\n    .dataframe thead th {\n        text-align: right;\n    }\n</style>\n<table border=\"1\" class=\"dataframe\">\n  <thead>\n    <tr style=\"text-align: right;\">\n      <th></th>\n      <th>label</th>\n      <th>pic</th>\n    </tr>\n  </thead>\n  <tbody>\n    <tr>\n      <th>0</th>\n      <td>Sugar beet</td>\n      <td>6d99bec4e.png</td>\n    </tr>\n    <tr>\n      <th>1</th>\n      <td>Sugar beet</td>\n      <td>02460681c.png</td>\n    </tr>\n    <tr>\n      <th>2</th>\n      <td>Sugar beet</td>\n      <td>de1da036c.png</td>\n    </tr>\n    <tr>\n      <th>3</th>\n      <td>Sugar beet</td>\n      <td>7c05c4f0e.png</td>\n    </tr>\n    <tr>\n      <th>4</th>\n      <td>Sugar beet</td>\n      <td>71b1b6718.png</td>\n    </tr>\n  </tbody>\n</table>\n</div>"
     },
     "execution_count": 17,
     "metadata": {},
     "output_type": "execute_result"
    }
   ],
   "source": [
    "df.head()"
   ],
   "metadata": {
    "collapsed": false,
    "pycharm": {
     "name": "#%%\n"
    }
   }
  },
  {
   "cell_type": "code",
   "execution_count": 18,
   "outputs": [],
   "source": [
    "from sklearn.model_selection import train_test_split\n",
    "\n",
    "train_idx, val_idx = train_test_split(df.index, test_size=0.2, random_state=57, shuffle=True, stratify=df.label)\n",
    "\n",
    "\n",
    "for idx in val_idx:\n",
    "    picture = df.pic.loc[idx]\n",
    "    folder = df.label.loc[idx]\n",
    "    if not os.path.exists(f'val/{folder}'):\n",
    "        os.mkdir(f'val/{folder}')\n",
    "    shutil.move(f\"train/{folder}/{picture}\", f\"val//{folder}/{picture}\")"
   ],
   "metadata": {
    "collapsed": false,
    "pycharm": {
     "name": "#%%\n"
    }
   }
  },
  {
   "cell_type": "code",
   "execution_count": 19,
   "outputs": [
    {
     "data": {
      "text/plain": "Int64Index([3195,   43,  817, 2872, 2099, 2019,   40, 1188, 4118,   81,\n            ...\n            4431,  847, 3952, 4011, 1072, 3899, 3101, 1733,  115, 2441],\n           dtype='int64', length=3800)"
     },
     "execution_count": 19,
     "metadata": {},
     "output_type": "execute_result"
    }
   ],
   "source": [
    "train_idx"
   ],
   "metadata": {
    "collapsed": false,
    "pycharm": {
     "name": "#%%\n"
    }
   }
  },
  {
   "cell_type": "code",
   "execution_count": 44,
   "outputs": [],
   "source": [
    "from torchvision import datasets\n",
    "\n",
    "\n",
    "data_transforms = {\n",
    "    'train': transforms.Compose([\n",
    "        transforms.RandomResizedCrop(200),\n",
    "        transforms.RandomHorizontalFlip(),\n",
    "        transforms.ToTensor(),\n",
    "        transforms.Normalize([0.5, 0.5, 0.5], [0.5, 0.5, 0.5])\n",
    "    ]),\n",
    "    'val': transforms.Compose([\n",
    "        transforms.Resize(235),\n",
    "        transforms.CenterCrop(200),\n",
    "        transforms.ToTensor(),\n",
    "        transforms.Normalize([0.5, 0.5, 0.5], [0.5, 0.5, 0.5])\n",
    "    ]),\n",
    "}\n",
    "\n",
    "\n",
    "image_datasets = {x: datasets.ImageFolder(x, data_transforms[x]) for x in ['train', 'val']}"
   ],
   "metadata": {
    "collapsed": false,
    "pycharm": {
     "name": "#%%\n"
    }
   }
  },
  {
   "cell_type": "code",
   "execution_count": 67,
   "outputs": [
    {
     "name": "stdout",
     "output_type": "stream",
     "text": [
      "{'train': 3800, 'val': 950}\n"
     ]
    }
   ],
   "source": [
    "dataloaders = {x: torch.utils.data.DataLoader(image_datasets[x], batch_size=32,\n",
    "                                             shuffle=True, num_workers=2)\n",
    "              for x in ['train', 'val']}\n",
    "dataset_sizes = {x: len(image_datasets[x]) for x in ['train', 'val']}\n",
    "print(dataset_sizes)\n",
    "class_names = image_datasets['train'].classes"
   ],
   "metadata": {
    "collapsed": false,
    "pycharm": {
     "name": "#%%\n"
    }
   }
  },
  {
   "cell_type": "code",
   "execution_count": 68,
   "outputs": [
    {
     "data": {
      "text/plain": "12"
     },
     "execution_count": 68,
     "metadata": {},
     "output_type": "execute_result"
    }
   ],
   "source": [
    "len(class_names)"
   ],
   "metadata": {
    "collapsed": false,
    "pycharm": {
     "name": "#%%\n"
    }
   }
  },
  {
   "cell_type": "code",
   "execution_count": 69,
   "outputs": [
    {
     "data": {
      "text/plain": "<Figure size 432x288 with 1 Axes>",
      "image/png": "[encoded data removed]"
     },
     "metadata": {
      "needs_background": "light"
     },
     "output_type": "display_data"
    },
    {
     "name": "stdout",
     "output_type": "stream",
     "text": [
      "Scentless Mayweed  Scentless Mayweed  Maize  Loose Silky-bent  Scentless Mayweed  Sugar beet  Sugar beet  Maize  Cleavers  Fat Hen  Loose Silky-bent  Small-flowered Cranesbill  Common wheat  Shepherds Purse  Shepherds Purse  Common Chickweed  Scentless Mayweed  Scentless Mayweed  Maize  Fat Hen  Black-grass  Fat Hen  Small-flowered Cranesbill  Black-grass  Fat Hen  Scentless Mayweed  Scentless Mayweed  Loose Silky-bent  Cleavers  Common wheat  Shepherds Purse  Black-grass\n"
     ]
    }
   ],
   "source": [
    "import matplotlib.pyplot as plt\n",
    "\n",
    "\n",
    "def imshow(img):\n",
    "    # убрать нормализацию\n",
    "    img = img / 2 + 0.5\n",
    "    npimg = img.numpy()\n",
    "    plt.imshow(np.transpose(npimg, (1, 2, 0)))\n",
    "    plt.show()\n",
    "\n",
    "\n",
    "# взять случайный батч изображений\n",
    "dataiter = iter(dataloaders['train'])\n",
    "images, labels = dataiter.next()\n",
    "\n",
    "imshow(torchvision.utils.make_grid(images))\n",
    "print('  '.join('{}'.format(class_names[labels[j]]) for j in range(32)))"
   ],
   "metadata": {
    "collapsed": false,
    "pycharm": {
     "name": "#%%\n"
    }
   }
  },
  {
   "cell_type": "code",
   "execution_count": 70,
   "outputs": [],
   "source": [
    "import time\n",
    "import copy\n",
    "\n",
    "\n",
    "def train_model(model, criterion, optimizer, num_epochs=5):\n",
    "    since = time.time()\n",
    "\n",
    "    best_model_wts = copy.deepcopy(model.state_dict())\n",
    "    best_acc = 0.0\n",
    "\n",
    "    for epoch in range(num_epochs):\n",
    "        print('Epoch {}/{}'.format(epoch, num_epochs - 1))\n",
    "        print('-' * 10)\n",
    "\n",
    "        for phase in ['train', 'val']:\n",
    "            if phase == 'train':\n",
    "                model.train()\n",
    "            else:\n",
    "                model.eval()\n",
    "\n",
    "            running_loss = 0.0\n",
    "            running_corrects = 0\n",
    "\n",
    "            for inputs, labels in dataloaders[phase]:\n",
    "                inputs = inputs.to(device)\n",
    "                labels = labels.to(device)\n",
    "\n",
    "                optimizer.zero_grad()\n",
    "\n",
    "                with torch.set_grad_enabled(phase == 'train'):\n",
    "                    outputs = model(inputs)\n",
    "                    _, preds = torch.max(outputs, 1)\n",
    "                    loss = criterion(outputs, labels)\n",
    "\n",
    "                    if phase == 'train':\n",
    "                        loss.backward()\n",
    "                        optimizer.step()\n",
    "\n",
    "                running_loss += loss.item() * inputs.size(0)\n",
    "                running_corrects += torch.sum(preds == labels.data)\n",
    "\n",
    "            epoch_loss = running_loss / dataset_sizes[phase]\n",
    "            epoch_acc = running_corrects.double() / dataset_sizes[phase]\n",
    "\n",
    "            print('{} Loss: {:.4f} Acc: {:.4f}'.format(\n",
    "                phase, epoch_loss, epoch_acc))\n",
    "\n",
    "            if phase == 'val' and epoch_acc > best_acc:\n",
    "                best_acc = epoch_acc\n",
    "                best_model_wts = copy.deepcopy(model.state_dict())\n",
    "\n",
    "        print()\n",
    "\n",
    "    time_elapsed = time.time() - since\n",
    "    print('Training complete in {:.0f}m {:.0f}s'.format(\n",
    "        time_elapsed // 60, time_elapsed % 60))\n",
    "    print('Best val Acc: {:4f}'.format(best_acc))\n",
    "\n",
    "    model.load_state_dict(best_model_wts)\n",
    "    return model"
   ],
   "metadata": {
    "collapsed": false,
    "pycharm": {
     "name": "#%%\n"
    }
   }
  },
  {
   "cell_type": "code",
   "execution_count": 77,
   "outputs": [],
   "source": [
    "import torch.nn as nn\n",
    "import torch.nn.functional as F\n",
    "\n",
    "\n",
    "class Net(nn.Module):\n",
    "    def __init__(self):\n",
    "        super(Net, self).__init__()\n",
    "        self.conv1 = nn.Conv2d(3, 6, 3, padding=1)\n",
    "        self.pool1 = nn.MaxPool2d(2, 2)\n",
    "        self.conv2 = nn.Conv2d(6, 18, 3, padding=1)\n",
    "        self.pool2 = nn.MaxPool2d(2, 2)\n",
    "        self.conv3 = nn.Conv2d(18, 54, 3, padding=1)\n",
    "        self.pool3 = nn.MaxPool2d(2, 2)\n",
    "        self.conv4 = nn.Conv2d(54, 162, 3, padding=1)\n",
    "        self.pool4 = nn.MaxPool2d(25, 25)\n",
    "        self.fc1 = nn.Linear(162, 44)\n",
    "        self.fc2 = nn.Linear(44, 12)\n",
    "\n",
    "    def forward(self, x):\n",
    "        x = F.relu(self.pool1(self.conv1(x)))\n",
    "        x = F.relu(self.pool2(self.conv2(x)))\n",
    "        x = F.relu(self.pool3(self.conv3(x)))\n",
    "        x = F.relu(self.pool4(self.conv4(x)))\n",
    "        x = x.view(-1, 162)\n",
    "        x = F.relu(self.fc1(x))\n",
    "        x = self.fc2(x)\n",
    "        return x\n",
    "\n",
    "\n",
    "net = Net().to(device)"
   ],
   "metadata": {
    "collapsed": false,
    "pycharm": {
     "name": "#%%\n"
    }
   }
  },
  {
   "cell_type": "code",
   "execution_count": 78,
   "outputs": [],
   "source": [
    "criterion = nn.CrossEntropyLoss()\n",
    "optimizer = optim.Adam(net.parameters())"
   ],
   "metadata": {
    "collapsed": false,
    "pycharm": {
     "name": "#%%\n"
    }
   }
  },
  {
   "cell_type": "code",
   "execution_count": 79,
   "outputs": [
    {
     "name": "stdout",
     "output_type": "stream",
     "text": [
      "Epoch 0/99\n",
      "----------\n",
      "train Loss: 2.3321 Acc: 0.1837\n",
      "val Loss: 1.9783 Acc: 0.2884\n",
      "\n",
      "Epoch 1/99\n",
      "----------\n",
      "train Loss: 1.9227 Acc: 0.3174\n",
      "val Loss: 1.7513 Acc: 0.3495\n",
      "\n",
      "Epoch 2/99\n",
      "----------\n",
      "train Loss: 1.8412 Acc: 0.3382\n",
      "val Loss: 1.7491 Acc: 0.3832\n",
      "\n",
      "Epoch 3/99\n",
      "----------\n",
      "train Loss: 1.7808 Acc: 0.3603\n",
      "val Loss: 1.6250 Acc: 0.4242\n",
      "\n",
      "Epoch 4/99\n",
      "----------\n",
      "train Loss: 1.6544 Acc: 0.4045\n",
      "val Loss: 1.4801 Acc: 0.4789\n",
      "\n",
      "Epoch 5/99\n",
      "----------\n",
      "train Loss: 1.5465 Acc: 0.4492\n",
      "val Loss: 1.4484 Acc: 0.4958\n",
      "\n",
      "Epoch 6/99\n",
      "----------\n",
      "train Loss: 1.4965 Acc: 0.4871\n",
      "val Loss: 1.4175 Acc: 0.4800\n",
      "\n",
      "Epoch 7/99\n",
      "----------\n",
      "train Loss: 1.3924 Acc: 0.5229\n",
      "val Loss: 1.2270 Acc: 0.5516\n",
      "\n",
      "Epoch 8/99\n",
      "----------\n",
      "train Loss: 1.3403 Acc: 0.5411\n",
      "val Loss: 1.1748 Acc: 0.5789\n",
      "\n",
      "Epoch 9/99\n",
      "----------\n",
      "train Loss: 1.2768 Acc: 0.5592\n",
      "val Loss: 1.1480 Acc: 0.6000\n",
      "\n",
      "Epoch 10/99\n",
      "----------\n",
      "train Loss: 1.2539 Acc: 0.5584\n",
      "val Loss: 1.0340 Acc: 0.6695\n",
      "\n",
      "Epoch 11/99\n",
      "----------\n",
      "train Loss: 1.1809 Acc: 0.5924\n",
      "val Loss: 0.9742 Acc: 0.6758\n",
      "\n",
      "Epoch 12/99\n",
      "----------\n",
      "train Loss: 1.1783 Acc: 0.5997\n",
      "val Loss: 1.0107 Acc: 0.6505\n",
      "\n",
      "Epoch 13/99\n",
      "----------\n",
      "train Loss: 1.1170 Acc: 0.6297\n",
      "val Loss: 0.9387 Acc: 0.6863\n",
      "\n",
      "Epoch 14/99\n",
      "----------\n",
      "train Loss: 1.0925 Acc: 0.6221\n",
      "val Loss: 1.1569 Acc: 0.5968\n",
      "\n",
      "Epoch 15/99\n",
      "----------\n",
      "train Loss: 1.0341 Acc: 0.6508\n",
      "val Loss: 0.8366 Acc: 0.7179\n",
      "\n",
      "Epoch 16/99\n",
      "----------\n",
      "train Loss: 0.9933 Acc: 0.6647\n",
      "val Loss: 0.9605 Acc: 0.6484\n",
      "\n",
      "Epoch 17/99\n",
      "----------\n",
      "train Loss: 0.9421 Acc: 0.6645\n",
      "val Loss: 0.8690 Acc: 0.7053\n",
      "\n",
      "Epoch 18/99\n",
      "----------\n",
      "train Loss: 0.9389 Acc: 0.6903\n",
      "val Loss: 0.7287 Acc: 0.7695\n",
      "\n",
      "Epoch 19/99\n",
      "----------\n",
      "train Loss: 0.8989 Acc: 0.6976\n",
      "val Loss: 1.0239 Acc: 0.6474\n",
      "\n",
      "Epoch 20/99\n",
      "----------\n",
      "train Loss: 0.8796 Acc: 0.6937\n",
      "val Loss: 0.7035 Acc: 0.7558\n",
      "\n",
      "Epoch 21/99\n",
      "----------\n",
      "train Loss: 0.8198 Acc: 0.7247\n",
      "val Loss: 0.6694 Acc: 0.7653\n",
      "\n",
      "Epoch 22/99\n",
      "----------\n",
      "train Loss: 0.7837 Acc: 0.7355\n",
      "val Loss: 0.6037 Acc: 0.8021\n",
      "\n",
      "Epoch 23/99\n",
      "----------\n",
      "train Loss: 0.7503 Acc: 0.7426\n",
      "val Loss: 0.7322 Acc: 0.7389\n",
      "\n",
      "Epoch 24/99\n",
      "----------\n",
      "train Loss: 0.7274 Acc: 0.7516\n",
      "val Loss: 0.5855 Acc: 0.7989\n",
      "\n",
      "Epoch 25/99\n",
      "----------\n",
      "train Loss: 0.7653 Acc: 0.7363\n",
      "val Loss: 0.6415 Acc: 0.7768\n",
      "\n",
      "Epoch 26/99\n",
      "----------\n",
      "train Loss: 0.6953 Acc: 0.7684\n",
      "val Loss: 0.5057 Acc: 0.8337\n",
      "\n",
      "Epoch 27/99\n",
      "----------\n",
      "train Loss: 0.6594 Acc: 0.7724\n",
      "val Loss: 0.4838 Acc: 0.8453\n",
      "\n",
      "Epoch 28/99\n",
      "----------\n",
      "train Loss: 0.6605 Acc: 0.7682\n",
      "val Loss: 0.5649 Acc: 0.8053\n",
      "\n",
      "Epoch 29/99\n",
      "----------\n",
      "train Loss: 0.6171 Acc: 0.7863\n",
      "val Loss: 0.4582 Acc: 0.8537\n",
      "\n",
      "Epoch 30/99\n",
      "----------\n",
      "train Loss: 0.6261 Acc: 0.7839\n",
      "val Loss: 0.5002 Acc: 0.8421\n",
      "\n",
      "Epoch 31/99\n",
      "----------\n",
      "train Loss: 0.6073 Acc: 0.7950\n",
      "val Loss: 0.5661 Acc: 0.8095\n",
      "\n",
      "Epoch 32/99\n",
      "----------\n",
      "train Loss: 0.6100 Acc: 0.7834\n",
      "val Loss: 0.5115 Acc: 0.8263\n",
      "\n",
      "Epoch 33/99\n",
      "----------\n",
      "train Loss: 0.5915 Acc: 0.7929\n",
      "val Loss: 0.4542 Acc: 0.8537\n",
      "\n",
      "Epoch 34/99\n",
      "----------\n",
      "train Loss: 0.6368 Acc: 0.7813\n",
      "val Loss: 0.4774 Acc: 0.8326\n",
      "\n",
      "Epoch 35/99\n",
      "----------\n",
      "train Loss: 0.5820 Acc: 0.8021\n",
      "val Loss: 0.3954 Acc: 0.8621\n",
      "\n",
      "Epoch 36/99\n",
      "----------\n",
      "train Loss: 0.5517 Acc: 0.8063\n",
      "val Loss: 0.4366 Acc: 0.8484\n",
      "\n",
      "Epoch 37/99\n",
      "----------\n",
      "train Loss: 0.5690 Acc: 0.7987\n",
      "val Loss: 0.4259 Acc: 0.8495\n",
      "\n",
      "Epoch 38/99\n",
      "----------\n",
      "train Loss: 0.5595 Acc: 0.7947\n",
      "val Loss: 0.3776 Acc: 0.8853\n",
      "\n",
      "Epoch 39/99\n",
      "----------\n",
      "train Loss: 0.5404 Acc: 0.8058\n",
      "val Loss: 0.4662 Acc: 0.8432\n",
      "\n",
      "Epoch 40/99\n",
      "----------\n",
      "train Loss: 0.5418 Acc: 0.8176\n",
      "val Loss: 0.4670 Acc: 0.8442\n",
      "\n",
      "Epoch 41/99\n",
      "----------\n",
      "train Loss: 0.5387 Acc: 0.8232\n",
      "val Loss: 0.3871 Acc: 0.8747\n",
      "\n",
      "Epoch 42/99\n",
      "----------\n",
      "train Loss: 0.5073 Acc: 0.8224\n",
      "val Loss: 0.4446 Acc: 0.8400\n",
      "\n",
      "Epoch 43/99\n",
      "----------\n",
      "train Loss: 0.4896 Acc: 0.8305\n",
      "val Loss: 0.4002 Acc: 0.8568\n",
      "\n",
      "Epoch 44/99\n",
      "----------\n",
      "train Loss: 0.5084 Acc: 0.8226\n",
      "val Loss: 0.3727 Acc: 0.8758\n",
      "\n",
      "Epoch 45/99\n",
      "----------\n",
      "train Loss: 0.5241 Acc: 0.8176\n",
      "val Loss: 0.3650 Acc: 0.8737\n",
      "\n",
      "Epoch 46/99\n",
      "----------\n",
      "train Loss: 0.5059 Acc: 0.8213\n",
      "val Loss: 0.3560 Acc: 0.8768\n",
      "\n",
      "Epoch 47/99\n",
      "----------\n",
      "train Loss: 0.4858 Acc: 0.8350\n",
      "val Loss: 0.3761 Acc: 0.8632\n",
      "\n",
      "Epoch 48/99\n",
      "----------\n",
      "train Loss: 0.5012 Acc: 0.8274\n",
      "val Loss: 0.3237 Acc: 0.8926\n",
      "\n",
      "Epoch 49/99\n",
      "----------\n",
      "train Loss: 0.4871 Acc: 0.8342\n",
      "val Loss: 0.3762 Acc: 0.8684\n",
      "\n",
      "Epoch 50/99\n",
      "----------\n",
      "train Loss: 0.4514 Acc: 0.8505\n",
      "val Loss: 0.3745 Acc: 0.8663\n",
      "\n",
      "Epoch 51/99\n",
      "----------\n",
      "train Loss: 0.5078 Acc: 0.8197\n",
      "val Loss: 0.3255 Acc: 0.8979\n",
      "\n",
      "Epoch 52/99\n",
      "----------\n",
      "train Loss: 0.4674 Acc: 0.8411\n",
      "val Loss: 0.3299 Acc: 0.8895\n",
      "\n",
      "Epoch 53/99\n",
      "----------\n",
      "train Loss: 0.4764 Acc: 0.8329\n",
      "val Loss: 0.3207 Acc: 0.8968\n",
      "\n",
      "Epoch 54/99\n",
      "----------\n",
      "train Loss: 0.4772 Acc: 0.8255\n",
      "val Loss: 0.3588 Acc: 0.8789\n",
      "\n",
      "Epoch 55/99\n",
      "----------\n",
      "train Loss: 0.4679 Acc: 0.8366\n",
      "val Loss: 0.3936 Acc: 0.8695\n",
      "\n",
      "Epoch 56/99\n",
      "----------\n",
      "train Loss: 0.4649 Acc: 0.8450\n",
      "val Loss: 0.4258 Acc: 0.8526\n",
      "\n",
      "Epoch 57/99\n",
      "----------\n",
      "train Loss: 0.4458 Acc: 0.8463\n",
      "val Loss: 0.4057 Acc: 0.8674\n",
      "\n",
      "Epoch 58/99\n",
      "----------\n",
      "train Loss: 0.4297 Acc: 0.8513\n",
      "val Loss: 0.3429 Acc: 0.8916\n",
      "\n",
      "Epoch 59/99\n",
      "----------\n",
      "train Loss: 0.4361 Acc: 0.8418\n",
      "val Loss: 0.4922 Acc: 0.8316\n",
      "\n",
      "Epoch 60/99\n",
      "----------\n",
      "train Loss: 0.4673 Acc: 0.8400\n",
      "val Loss: 0.3610 Acc: 0.8726\n",
      "\n",
      "Epoch 61/99\n",
      "----------\n",
      "train Loss: 0.4050 Acc: 0.8561\n",
      "val Loss: 0.3106 Acc: 0.8979\n",
      "\n",
      "Epoch 62/99\n",
      "----------\n",
      "train Loss: 0.4145 Acc: 0.8516\n",
      "val Loss: 0.3402 Acc: 0.8800\n",
      "\n",
      "Epoch 63/99\n",
      "----------\n",
      "train Loss: 0.3976 Acc: 0.8608\n",
      "val Loss: 0.3593 Acc: 0.8832\n",
      "\n",
      "Epoch 64/99\n",
      "----------\n",
      "train Loss: 0.3875 Acc: 0.8676\n",
      "val Loss: 0.3123 Acc: 0.8989\n",
      "\n",
      "Epoch 65/99\n",
      "----------\n",
      "train Loss: 0.3888 Acc: 0.8692\n",
      "val Loss: 0.3158 Acc: 0.8926\n",
      "\n",
      "Epoch 66/99\n",
      "----------\n",
      "train Loss: 0.4381 Acc: 0.8453\n",
      "val Loss: 0.3616 Acc: 0.8779\n",
      "\n",
      "Epoch 67/99\n",
      "----------\n",
      "train Loss: 0.4200 Acc: 0.8455\n",
      "val Loss: 0.2856 Acc: 0.9021\n",
      "\n",
      "Epoch 68/99\n",
      "----------\n",
      "train Loss: 0.3957 Acc: 0.8582\n",
      "val Loss: 0.3018 Acc: 0.9032\n",
      "\n",
      "Epoch 69/99\n",
      "----------\n",
      "train Loss: 0.4142 Acc: 0.8589\n",
      "val Loss: 0.4456 Acc: 0.8453\n",
      "\n",
      "Epoch 70/99\n",
      "----------\n",
      "train Loss: 0.4199 Acc: 0.8532\n",
      "val Loss: 0.3056 Acc: 0.8947\n",
      "\n",
      "Epoch 71/99\n",
      "----------\n",
      "train Loss: 0.4368 Acc: 0.8461\n",
      "val Loss: 0.3143 Acc: 0.8968\n",
      "\n",
      "Epoch 72/99\n",
      "----------\n",
      "train Loss: 0.4089 Acc: 0.8563\n",
      "val Loss: 0.3033 Acc: 0.8926\n",
      "\n",
      "Epoch 73/99\n",
      "----------\n",
      "train Loss: 0.4162 Acc: 0.8529\n",
      "val Loss: 0.3325 Acc: 0.8895\n",
      "\n",
      "Epoch 74/99\n",
      "----------\n",
      "train Loss: 0.3750 Acc: 0.8676\n",
      "val Loss: 0.3406 Acc: 0.8926\n",
      "\n",
      "Epoch 75/99\n",
      "----------\n",
      "train Loss: 0.4328 Acc: 0.8495\n",
      "val Loss: 0.3233 Acc: 0.8926\n",
      "\n",
      "Epoch 76/99\n",
      "----------\n",
      "train Loss: 0.3815 Acc: 0.8663\n",
      "val Loss: 0.3070 Acc: 0.8979\n",
      "\n",
      "Epoch 77/99\n",
      "----------\n",
      "train Loss: 0.4208 Acc: 0.8511\n",
      "val Loss: 0.2952 Acc: 0.9021\n",
      "\n",
      "Epoch 78/99\n",
      "----------\n",
      "train Loss: 0.3925 Acc: 0.8653\n",
      "val Loss: 0.3709 Acc: 0.8758\n",
      "\n",
      "Epoch 79/99\n",
      "----------\n",
      "train Loss: 0.4199 Acc: 0.8537\n",
      "val Loss: 0.2946 Acc: 0.9011\n",
      "\n",
      "Epoch 80/99\n",
      "----------\n",
      "train Loss: 0.3726 Acc: 0.8682\n",
      "val Loss: 0.3000 Acc: 0.9021\n",
      "\n",
      "Epoch 81/99\n",
      "----------\n",
      "train Loss: 0.3892 Acc: 0.8639\n",
      "val Loss: 0.2835 Acc: 0.9084\n",
      "\n",
      "Epoch 82/99\n",
      "----------\n",
      "train Loss: 0.3796 Acc: 0.8650\n",
      "val Loss: 0.3155 Acc: 0.8968\n",
      "\n",
      "Epoch 83/99\n",
      "----------\n",
      "train Loss: 0.3788 Acc: 0.8705\n",
      "val Loss: 0.2731 Acc: 0.9095\n",
      "\n",
      "Epoch 84/99\n",
      "----------\n",
      "train Loss: 0.3679 Acc: 0.8721\n",
      "val Loss: 0.2784 Acc: 0.9084\n",
      "\n",
      "Epoch 85/99\n",
      "----------\n",
      "train Loss: 0.3768 Acc: 0.8668\n",
      "val Loss: 0.3576 Acc: 0.8800\n",
      "\n",
      "Epoch 86/99\n",
      "----------\n",
      "train Loss: 0.3804 Acc: 0.8695\n",
      "val Loss: 0.3277 Acc: 0.8968\n",
      "\n",
      "Epoch 87/99\n",
      "----------\n",
      "train Loss: 0.3752 Acc: 0.8676\n",
      "val Loss: 0.3517 Acc: 0.8832\n",
      "\n",
      "Epoch 88/99\n",
      "----------\n",
      "train Loss: 0.3725 Acc: 0.8682\n",
      "val Loss: 0.3089 Acc: 0.8958\n",
      "\n",
      "Epoch 89/99\n",
      "----------\n",
      "train Loss: 0.3730 Acc: 0.8732\n",
      "val Loss: 0.2536 Acc: 0.9189\n",
      "\n",
      "Epoch 90/99\n",
      "----------\n",
      "train Loss: 0.3501 Acc: 0.8808\n",
      "val Loss: 0.2821 Acc: 0.9063\n",
      "\n",
      "Epoch 91/99\n",
      "----------\n",
      "train Loss: 0.3679 Acc: 0.8747\n",
      "val Loss: 0.2671 Acc: 0.9137\n",
      "\n",
      "Epoch 92/99\n",
      "----------\n",
      "train Loss: 0.3714 Acc: 0.8718\n",
      "val Loss: 0.2999 Acc: 0.9011\n",
      "\n",
      "Epoch 93/99\n",
      "----------\n",
      "train Loss: 0.3761 Acc: 0.8705\n",
      "val Loss: 0.3529 Acc: 0.8832\n",
      "\n",
      "Epoch 94/99\n",
      "----------\n",
      "train Loss: 0.3607 Acc: 0.8782\n",
      "val Loss: 0.2770 Acc: 0.9126\n",
      "\n",
      "Epoch 95/99\n",
      "----------\n",
      "train Loss: 0.3253 Acc: 0.8871\n",
      "val Loss: 0.2565 Acc: 0.9189\n",
      "\n",
      "Epoch 96/99\n",
      "----------\n",
      "train Loss: 0.3345 Acc: 0.8871\n",
      "val Loss: 0.2720 Acc: 0.9095\n",
      "\n",
      "Epoch 97/99\n",
      "----------\n",
      "train Loss: 0.3486 Acc: 0.8776\n",
      "val Loss: 0.2813 Acc: 0.9126\n",
      "\n",
      "Epoch 98/99\n",
      "----------\n",
      "train Loss: 0.3412 Acc: 0.8826\n",
      "val Loss: 0.3389 Acc: 0.8884\n",
      "\n",
      "Epoch 99/99\n",
      "----------\n",
      "train Loss: 0.3299 Acc: 0.8813\n",
      "val Loss: 0.2735 Acc: 0.9126\n",
      "\n",
      "Training complete in 26m 58s\n",
      "Best val Acc: 0.918947\n"
     ]
    }
   ],
   "source": [
    "net = train_model(net, criterion, optimizer,  num_epochs=100)"
   ],
   "metadata": {
    "collapsed": false,
    "pycharm": {
     "name": "#%%\n"
    }
   }
  },
  {
   "cell_type": "code",
   "execution_count": 96,
   "outputs": [],
   "source": [
    "PATH = './leaves_net.pth'\n",
    "torch.save(net.state_dict(), PATH)"
   ],
   "metadata": {
    "collapsed": false,
    "pycharm": {
     "name": "#%%\n"
    }
   }
  },
  {
   "cell_type": "code",
   "execution_count": 82,
   "outputs": [
    {
     "data": {
      "text/plain": "            file     species\n0  0021e90e4.png  Sugar beet\n1  003d61042.png  Sugar beet\n2  007b3da8b.png  Sugar beet\n3  0086a6340.png  Sugar beet\n4  00c47e980.png  Sugar beet",
      "text/html": "<div>\n<style scoped>\n    .dataframe tbody tr th:only-of-type {\n        vertical-align: middle;\n    }\n\n    .dataframe tbody tr th {\n        vertical-align: top;\n    }\n\n    .dataframe thead th {\n        text-align: right;\n    }\n</style>\n<table border=\"1\" class=\"dataframe\">\n  <thead>\n    <tr style=\"text-align: right;\">\n      <th></th>\n      <th>file</th>\n      <th>species</th>\n    </tr>\n  </thead>\n  <tbody>\n    <tr>\n      <th>0</th>\n      <td>0021e90e4.png</td>\n      <td>Sugar beet</td>\n    </tr>\n    <tr>\n      <th>1</th>\n      <td>003d61042.png</td>\n      <td>Sugar beet</td>\n    </tr>\n    <tr>\n      <th>2</th>\n      <td>007b3da8b.png</td>\n      <td>Sugar beet</td>\n    </tr>\n    <tr>\n      <th>3</th>\n      <td>0086a6340.png</td>\n      <td>Sugar beet</td>\n    </tr>\n    <tr>\n      <th>4</th>\n      <td>00c47e980.png</td>\n      <td>Sugar beet</td>\n    </tr>\n  </tbody>\n</table>\n</div>"
     },
     "execution_count": 82,
     "metadata": {},
     "output_type": "execute_result"
    }
   ],
   "source": [
    "submission = pd.read_csv('sample_submission.csv')\n",
    "submission.head()"
   ],
   "metadata": {
    "collapsed": false,
    "pycharm": {
     "name": "#%%\n"
    }
   }
  },
  {
   "cell_type": "code",
   "execution_count": 117,
   "outputs": [],
   "source": [
    "test_dataset = datasets.ImageFolder('test', data_transforms['val'])\n",
    "test_dataloader = torch.utils.data.DataLoader(test_dataset, batch_size=32, shuffle=False, num_workers=2)"
   ],
   "metadata": {
    "collapsed": false,
    "pycharm": {
     "name": "#%%\n"
    }
   }
  },
  {
   "cell_type": "code",
   "execution_count": 118,
   "outputs": [],
   "source": [
    "result = []\n",
    "net.eval()\n",
    "for inputs, labels in test_dataloader:\n",
    "    inputs = inputs.to(device)\n",
    "    labels = labels.to(device)\n",
    "    optimizer.zero_grad()\n",
    "    with torch.set_grad_enabled(False):\n",
    "        outputs = net(inputs)\n",
    "        _, preds = torch.max(outputs, 1)\n",
    "        result = result + preds.cpu().numpy().tolist()"
   ],
   "metadata": {
    "collapsed": false,
    "pycharm": {
     "name": "#%%\n"
    }
   }
  },
  {
   "cell_type": "code",
   "execution_count": 130,
   "outputs": [
    {
     "data": {
      "text/plain": "            file                    species\n0  0021e90e4.png  Small-flowered Cranesbill\n1  003d61042.png                    Fat Hen\n2  007b3da8b.png                 Sugar beet\n3  0086a6340.png           Common Chickweed\n4  00c47e980.png                 Sugar beet",
      "text/html": "<div>\n<style scoped>\n    .dataframe tbody tr th:only-of-type {\n        vertical-align: middle;\n    }\n\n    .dataframe tbody tr th {\n        vertical-align: top;\n    }\n\n    .dataframe thead th {\n        text-align: right;\n    }\n</style>\n<table border=\"1\" class=\"dataframe\">\n  <thead>\n    <tr style=\"text-align: right;\">\n      <th></th>\n      <th>file</th>\n      <th>species</th>\n    </tr>\n  </thead>\n  <tbody>\n    <tr>\n      <th>0</th>\n      <td>0021e90e4.png</td>\n      <td>Small-flowered Cranesbill</td>\n    </tr>\n    <tr>\n      <th>1</th>\n      <td>003d61042.png</td>\n      <td>Fat Hen</td>\n    </tr>\n    <tr>\n      <th>2</th>\n      <td>007b3da8b.png</td>\n      <td>Sugar beet</td>\n    </tr>\n    <tr>\n      <th>3</th>\n      <td>0086a6340.png</td>\n      <td>Common Chickweed</td>\n    </tr>\n    <tr>\n      <th>4</th>\n      <td>00c47e980.png</td>\n      <td>Sugar beet</td>\n    </tr>\n  </tbody>\n</table>\n</div>"
     },
     "execution_count": 130,
     "metadata": {},
     "output_type": "execute_result"
    }
   ],
   "source": [
    "pred = [[name[0].split('/')[-1], class_names[result[idx]]] for idx, name in enumerate(test_dataset.imgs)]\n",
    "pred = pd.DataFrame(pred, columns=['file', 'species'])\n",
    "pred.head()"
   ],
   "metadata": {
    "collapsed": false,
    "pycharm": {
     "name": "#%%\n"
    }
   }
  },
  {
   "cell_type": "code",
   "execution_count": 131,
   "outputs": [],
   "source": [
    "pred.to_csv('submission.csv', index=False)"
   ],
   "metadata": {
    "collapsed": false,
    "pycharm": {
     "name": "#%%\n"
    }
   }
  },
  {
   "cell_type": "markdown",
   "source": [
    "### Скор 0.91687"
   ],
   "metadata": {
    "collapsed": false,
    "pycharm": {
     "name": "#%% md\n"
    }
   }
  }
 ],
 "metadata": {
  "kernelspec": {
   "display_name": "Python 3",
   "language": "python",
   "name": "python3"
  },
  "language_info": {
   "codemirror_mode": {
    "name": "ipython",
    "version": 2
   },
   "file_extension": ".py",
   "mimetype": "text/x-python",
   "name": "python",
   "nbconvert_exporter": "python",
   "pygments_lexer": "ipython2",
   "version": "2.7.6"
  }
 },
 "nbformat": 4,
 "nbformat_minor": 0
}